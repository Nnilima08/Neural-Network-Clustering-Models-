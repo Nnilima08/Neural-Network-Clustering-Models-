{
  "cells": [
    {
      "cell_type": "markdown",
      "metadata": {
        "colab_type": "text",
        "id": "6KsdDu2Yfjgi"
      },
      "source": [
        "All resources are listed at the bottom of the page."
      ]
    },
    {
      "cell_type": "code",
      "execution_count": 0,
      "metadata": {
        "colab": {},
        "colab_type": "code",
        "id": "LXJwVhLCfjgk"
      },
      "outputs": [],
      "source": [
        "# Get important libraries for this class.\n",
        "import tensorflow as tf\n",
        "import numpy as np\n",
        "import matplotlib.pyplot as plt\n",
        "import warnings\n",
        "import csv\n",
        "import random\n",
        "import math\n",
        "#--------------------------------------------------------\n",
        "from tensorflow.python.ops import control_flow_ops\n",
        "from IPython.display import clear_output\n",
        "from scipy.spatial.distance import squareform, pdist\n",
        "from sklearn.preprocessing import normalize\n",
        "from numpy import linalg as LA\n",
        "from scipy.cluster.vq import kmeans, vq\n",
        "from sklearn.metrics import normalized_mutual_info_score\n",
        "from math import sqrt"
      ]
    },
    {
      "cell_type": "code",
      "execution_count": 0,
      "metadata": {
        "colab": {},
        "colab_type": "code",
        "id": "g_oFBALvfjgs"
      },
      "outputs": [],
      "source": [
        "def standardization(X):\n",
        "    return normalize(X, axis=0)"
      ]
    },
    {
      "cell_type": "code",
      "execution_count": 0,
      "metadata": {
        "colab": {},
        "colab_type": "code",
        "id": "dKbsettXfjgz"
      },
      "outputs": [],
      "source": [
        "def laplacian(A):\n",
        "    S = np.sum(A, 0)\n",
        "    D = np.diag(S)\n",
        "    D = LA.matrix_power(D, -1)\n",
        "    L = np.dot(D, A)\n",
        "    return L"
      ]
    },
    {
      "cell_type": "code",
      "execution_count": 0,
      "metadata": {
        "colab": {},
        "colab_type": "code",
        "id": "BvsbwLRQfjg5"
      },
      "outputs": [],
      "source": [
        "def normalization(V):\n",
        "    return (V - min(V)) / (max(V) - min(V))"
      ]
    },
    {
      "cell_type": "code",
      "execution_count": 0,
      "metadata": {
        "colab": {},
        "colab_type": "code",
        "id": "YrW5-pZ7fjhD"
      },
      "outputs": [],
      "source": [
        "class Cosine_Similarity:\n",
        "    def get_matrix(self, Data):\n",
        "        X = standardization(Data)\n",
        "        X = pdist(X, 'cosine')\n",
        "        X = squareform(X)\n",
        "        L = laplacian(X)\n",
        "        Y = np.apply_along_axis(normalization, 1, L)\n",
        "        return Y"
      ]
    },
    {
      "cell_type": "code",
      "execution_count": 0,
      "metadata": {
        "colab": {},
        "colab_type": "code",
        "id": "M9X27ve9fjhJ"
      },
      "outputs": [],
      "source": [
        "class Similarity_Dataset_Iterator():\n",
        "    def __init__(self, data, labels, similarity):\n",
        "        self.data = data\n",
        "        self.labels = labels\n",
        "        self.matrix = similarity.get_matrix(data)\n",
        "        self.data_size = self.matrix.shape[0]\n",
        "        self.current_index = 0\n",
        "    def next_batch(self, num):\n",
        "        data=self.matrix.transpose()\n",
        "        labels=self.labels\n",
        "        idx = np.arange(0 , len(data))\n",
        "        np.random.shuffle(idx)\n",
        "        idx = idx[:num]\n",
        "        data_shuffle = [data[ i] for i in idx]\n",
        "        labels_shuffle = [labels[ i] for i in idx]\n",
        "        return data_shuffle, labels_shuffle\n",
        "    def whole_dataset(self):\n",
        "        return (self.matrix.transpose(), self.labels)"
      ]
    },
    {
      "cell_type": "code",
      "execution_count": 0,
      "metadata": {
        "colab": {},
        "colab_type": "code",
        "id": "lMa2HTzVfjhP"
      },
      "outputs": [],
      "source": [
        "# Fetching dataset: \n",
        "def read_iris_data(similarity):\n",
        "    \n",
        "    from sklearn import datasets\n",
        "    iris = datasets.load_iris()\n",
        "    data = iris.data\n",
        "    labels = iris.target\n",
        "    \n",
        "    return Similarity_Dataset_Iterator(data, labels, similarity)"
      ]
    },
    {
      "cell_type": "code",
      "execution_count": 0,
      "metadata": {
        "colab": {},
        "colab_type": "code",
        "id": "M2UnMBqCfjhg"
      },
      "outputs": [],
      "source": [
        "# Call Cosine_Similarity as similarity dataset.\n",
        "trainSet_cosine = read_iris_data(Cosine_Similarity())"
      ]
    },
    {
      "cell_type": "code",
      "execution_count": 0,
      "metadata": {
        "colab": {},
        "colab_type": "code",
        "id": "_ag4nmM5fjhk"
      },
      "outputs": [],
      "source": [
        "n_input = trainSet_cosine.data_size #--------- Number of input data.\n",
        "# Define the number of hidden layer. \n",
        "if n_input >= 256:\n",
        "    Nn = int(512)\n",
        "elif n_input >= 128:\n",
        "    Nn = int(256)"
      ]
    },
    {
      "cell_type": "code",
      "execution_count": 0,
      "metadata": {
        "colab": {},
        "colab_type": "code",
        "id": "Tmm0gDTwfjhp"
      },
      "outputs": [],
      "source": [
        "n_hidden_1 = int(Nn/2) #-------------------- The autoencoder hidden layer 1.\n",
        "n_hidden_2 = int(n_hidden_1/2) #------------ The autoencoder hidden layer 2.\n",
        "n_hidden_3 = int(n_hidden_2/2) #------------ The autoencoder hidden layer 3.\n",
        "n_hidden_4 = int(n_hidden_3/2) #------------ The autoencoder hidden layer 4.\n",
        "n_code = str(2) #--------------------------- The number of output dimension value."
      ]
    },
    {
      "cell_type": "code",
      "execution_count": 11,
      "metadata": {
        "colab": {
          "base_uri": "https://localhost:8080/",
          "height": 102
        },
        "colab_type": "code",
        "id": "EV2O8zEAfjhx",
        "outputId": "81f8c1c7-de38-4d15-c1ac-fed16ec463cc"
      },
      "outputs": [
        {
          "name": "stdout",
          "output_type": "stream",
          "text": [
            "Layer 1:  150\n",
            "Layer 2:  128\n",
            "Layer 3:  64\n",
            "Layer 4:  32\n",
            "Layer 5:  2\n"
          ]
        }
      ],
      "source": [
        "print('Layer 1: ', n_input)\n",
        "print('Layer 2: ', n_hidden_1)\n",
        "print('Layer 3: ', n_hidden_2)\n",
        "print('Layer 4: ', n_hidden_3)\n",
        "print('Layer 5: ', int(n_code))"
      ]
    },
    {
      "cell_type": "code",
      "execution_count": 0,
      "metadata": {
        "colab": {},
        "colab_type": "code",
        "id": "OatPeJtSfjh5"
      },
      "outputs": [],
      "source": [
        "def k_means_(X, n_clusters):\n",
        "    kmeans_centroids,_ =  kmeans(X,n_clusters)\n",
        "    kmeans_, _ = vq(X, kmeans_centroids)\n",
        "    return kmeans_"
      ]
    },
    {
      "cell_type": "code",
      "execution_count": 0,
      "metadata": {
        "colab": {},
        "colab_type": "code",
        "id": "qbyL-w7dfjh9"
      },
      "outputs": [],
      "source": [
        "def encoder(x, n_code, mode_train):    \n",
        "    with tf.variable_scope(\"encoder\"):        \n",
        "        with tf.variable_scope(\"hidden-layer-1\"):\n",
        "            hidden_1 = layer(x, [n_input, n_hidden_1], [n_hidden_1], mode_train)\n",
        "        with tf.variable_scope(\"hidden-layer-2\"):\n",
        "            hidden_2 = layer(hidden_1, [n_hidden_1, n_hidden_2], [n_hidden_2], mode_train)\n",
        "        with tf.variable_scope(\"hidden-layer-3\"):\n",
        "            hidden_3 = layer(hidden_2, [n_hidden_2, n_hidden_3], [n_hidden_3], mode_train)        \n",
        "        with tf.variable_scope(\"embedded\"):\n",
        "            code = layer(hidden_3, [n_hidden_3, n_code], [n_code], mode_train)\n",
        "    return code"
      ]
    },
    {
      "cell_type": "code",
      "execution_count": 0,
      "metadata": {
        "colab": {},
        "colab_type": "code",
        "id": "97RX_nmwfjiC"
      },
      "outputs": [],
      "source": [
        "def decoder(code, n_code, mode_train):\n",
        "    with tf.variable_scope(\"decoder\"):\n",
        "        with tf.variable_scope(\"hidden-layer-1\"):\n",
        "            hidden_1 = layer(code, [n_code, n_hidden_3], [n_hidden_3], mode_train)\n",
        "        with tf.variable_scope(\"hidden-layer-2\"):\n",
        "            hidden_2 = layer(hidden_1, [n_hidden_3, n_hidden_2], [n_hidden_2], mode_train)\n",
        "        with tf.variable_scope(\"hidden-layer-3\"):\n",
        "            hidden_3 = layer(hidden_2, [n_hidden_2, n_hidden_1], [n_hidden_1], mode_train)              \n",
        "        with tf.variable_scope(\"reconstructed\"):\n",
        "            output = layer(hidden_3, [n_hidden_1, n_input], [n_input], mode_train)\n",
        "    return output"
      ]
    },
    {
      "cell_type": "code",
      "execution_count": 0,
      "metadata": {
        "colab": {},
        "colab_type": "code",
        "id": "LNipX2FKfjiG"
      },
      "outputs": [],
      "source": [
        "def batch_norm(x, n_out, mode_train):\n",
        "    beta_initialize = tf.constant_initializer(value=0.0, dtype=tf.float32)\n",
        "    gamma_initialize = tf.constant_initializer(value=1.0, dtype=tf.float32)\n",
        "    beta = tf.get_variable(\"beta\", [n_out], initializer=beta_initialize)\n",
        "    gamma = tf.get_variable(\"gamma\", [n_out], initializer=gamma_initialize)\n",
        "    batch_mean, batch_var = tf.nn.moments(x, [0], name='moments')\n",
        "    ema = tf.train.ExponentialMovingAverage(decay=0.9)\n",
        "    ema_apply_op = ema.apply([batch_mean, batch_var])\n",
        "    ema_mean, ema_var = ema.average(batch_mean), ema.average(batch_var)\n",
        "    def mean_var():\n",
        "        with tf.control_dependencies([ema_apply_op]):\n",
        "            return tf.identity(batch_mean), tf.identity(batch_var)\n",
        "    mean, var = control_flow_ops.cond(mode_train, mean_var, lambda: (ema_mean, ema_var))\n",
        "    reshaped_x = tf.reshape(x, [-1, 1, 1, n_out])\n",
        "    normed = tf.nn.batch_norm_with_global_normalization(reshaped_x, mean, var, beta, gamma, 1e-3, True)\n",
        "    return tf.reshape(normed, [-1, n_out])"
      ]
    },
    {
      "cell_type": "code",
      "execution_count": 0,
      "metadata": {
        "colab": {},
        "colab_type": "code",
        "id": "JWYXHqDxfjiM"
      },
      "outputs": [],
      "source": [
        "def layer(input, weight_shape, bias_shape, mode_train):\n",
        "    value_initialize = (1.0 / weight_shape[0] ** 0.5)\n",
        "    weight_initialize = tf.random_normal_initializer(stddev = value_initialize, seed = None)\n",
        "    bias_initialize = tf.constant_initializer(value=0.0, dtype=tf.float32)\n",
        "    w = tf.get_variable(\"w\", weight_shape, initializer=weight_initialize)\n",
        "    b = tf.get_variable(\"b\", bias_shape, initializer=bias_initialize)\n",
        "    return tf.nn.sigmoid(batch_norm((tf.matmul(input, w) + b), weight_shape[1], mode_train))"
      ]
    },
    {
      "cell_type": "code",
      "execution_count": 0,
      "metadata": {
        "colab": {},
        "colab_type": "code",
        "id": "54EGjAvbfjiR"
      },
      "outputs": [],
      "source": [
        "def loss(reconstructed, x):\n",
        "    with tf.variable_scope(\"train\"):\n",
        "        train_loss = tf.reduce_mean(tf.reduce_sum(tf.square(tf.subtract(reconstructed, x)), 1))\n",
        "        return train_loss"
      ]
    },
    {
      "cell_type": "code",
      "execution_count": 0,
      "metadata": {
        "colab": {},
        "colab_type": "code",
        "id": "JlJT2QfzfjiW"
      },
      "outputs": [],
      "source": [
        "def training(cost, learning_rate, beta1, beta2, global_step):\n",
        "    optimizer = tf.train.AdamOptimizer(learning_rate, beta1, beta2, epsilon=1e-08, use_locking=False, name='Adam')\n",
        "    train_op = optimizer.minimize(cost, global_step=global_step)\n",
        "    return train_op"
      ]
    },
    {
      "cell_type": "code",
      "execution_count": 0,
      "metadata": {
        "colab": {},
        "colab_type": "code",
        "id": "h8Hjik5vfjif",
        "scrolled": false
      },
      "outputs": [],
      "source": [
        "# Parameters\n",
        "n_layers = 5 #----------------------------- Number of Neural Networks Layers.\n",
        "beta1 = 0.9 #------------------------------ The decay rate 1.  \n",
        "beta2 = 0.999 #---------------------------- The decay rate 2.\n",
        "learning_rate = (beta1 / n_input) #-------- The learning rate.\n",
        "n_batch = math.ceil(n_input / n_layers) #- Number of selection data in per step.\n",
        "n_clusters = 3 #--------------------------- Number of clusters."
      ]
    },
    {
      "cell_type": "code",
      "execution_count": 0,
      "metadata": {
        "colab": {},
        "colab_type": "code",
        "id": "AKjrogT_fjij"
      },
      "outputs": [],
      "source": [
        "data_cos, labels_cos = trainSet_cosine.whole_dataset() #------- Allocation of data and labels"
      ]
    },
    {
      "cell_type": "code",
      "execution_count": 0,
      "metadata": {
        "colab": {},
        "colab_type": "code",
        "id": "-8puWQFIfjim"
      },
      "outputs": [],
      "source": [
        "results_cos=[] #--------------------------- A list to keep all NMI scores.\n",
        "loss_cost_cos=[] #------------------------- A list to keep all training evaluations.\n",
        "steps_cos=[] #----------------------------- A list to keep all steps."
      ]
    },
    {
      "cell_type": "code",
      "execution_count": 0,
      "metadata": {
        "colab": {},
        "colab_type": "code",
        "id": "P0LtavsJfjin",
        "scrolled": true
      },
      "outputs": [],
      "source": [
        "with tf.Graph().as_default():    \n",
        "    with tf.variable_scope(\"autoencoder_architecture\"):\n",
        "        x = tf.placeholder(\"float\", [None, n_input])   \n",
        "        mode_train = tf.placeholder(tf.bool)\n",
        "        code = encoder(x, int(n_code), mode_train)\n",
        "        reconstructed = decoder(code, int(n_code), mode_train)\n",
        "        cost = loss(reconstructed, x)\n",
        "        global_step = tf.Variable(0, name='global_step', trainable=False)\n",
        "        train_optimizer = training(cost, learning_rate, beta1, beta2, global_step)\n",
        "        sess = tf.Session()\n",
        "        init_op = tf.global_variables_initializer()\n",
        "        sess.run(init_op)"
      ]
    },
    {
      "cell_type": "code",
      "execution_count": 23,
      "metadata": {
        "colab": {
          "base_uri": "https://localhost:8080/",
          "height": 122
        },
        "colab_type": "code",
        "id": "Eq--3jsOfjit",
        "outputId": "51ad5001-160e-4e6b-b7e2-3aef0f37c7d4"
      },
      "outputs": [
        {
          "name": "stdout",
          "output_type": "stream",
          "text": [
            "NMI Score for AE is: 69.18 and new cost is: 27.28 in 0 step. \n",
            "NMI Score for AE is: 84.65 and new cost is: 22.18 in 1 step. \n",
            "NMI Score for AE is: 83.34 and new cost is: 18.67 in 2 step. \n",
            "NMI Score for AE is: 86.22 and new cost is: 15.66 in 3 step. \n",
            "NMI Score for AE is: 87.38 and new cost is: 9.98 in 4 step. \n"
          ]
        }
      ],
      "source": [
        "# Training cycle\n",
        "# Fit training with Backpropagation using batch data.\n",
        "for epoch in range(n_layers):\n",
        "      \n",
        "    miniData, _ = trainSet_cosine.next_batch(n_batch)\n",
        "    _, new_cost = sess.run([train_optimizer,cost], feed_dict={x: miniData,\n",
        "                                                              mode_train: True})       \n",
        "    #------------------------- End of the Optimization ------------------------------\n",
        "    # Save the results after per 10 epochs.    \n",
        "    # Getting embedded codes and running K-Means on them.\n",
        "    ae_codes_cos = sess.run(code, feed_dict={x: data_cos, mode_train: False})        \n",
        "    idx_cos = k_means_(ae_codes_cos, n_clusters)\n",
        "    ae_nmi_cos = normalized_mutual_info_score(labels_cos, idx_cos)\n",
        "    ae_nmi_cos = ae_nmi_cos*100\n",
        "    results_cos.append(ae_nmi_cos)    \n",
        "    steps_cos.append(epoch)\n",
        "    loss_cost_cos.append(new_cost)    \n",
        "    print(\"NMI Score for AE is: {:0.2f} and new cost is: {:0.2f} in {:d} step. \"\n",
        "          .format(ae_nmi_cos, new_cost, epoch))"
      ]
    },
    {
      "cell_type": "code",
      "execution_count": 24,
      "metadata": {
        "colab": {
          "base_uri": "https://localhost:8080/",
          "height": 287
        },
        "colab_type": "code",
        "id": "XHbluXKpfji6",
        "outputId": "964b2e63-230d-4bf9-872b-fb3032a6dd56"
      },
      "outputs": [
        {
          "data": {
            "image/png": "[encoded data removed]",
            "text/plain": [
              "<matplotlib.figure.Figure at 0x7f15ebce84e0>"
            ]
          },
          "metadata": {
            "tags": []
          },
          "output_type": "display_data"
        }
      ],
      "source": [
        "warnings.filterwarnings('ignore')\n",
        "plt.figure(figsize=(12,3.5))\n",
        "plt.subplot(1,2,1)\n",
        "plt.ylim(-0.5, 100)\n",
        "plt.plot(steps_cos, loss_cost_cos, label='Cost Trianing for Cosine Distance ', marker='o')\n",
        "plt.xlabel('Number of Epochs.')\n",
        "plt.ylabel('Cost')\n",
        "plt.grid()\n",
        "plt.title('Cost Function Trianing')\n",
        "plt.legend(loc='best')\n",
        "plt.subplot(1,2,2)\n",
        "plt.ylim(30, 109)\n",
        "plt.plot(steps_cos, results_cos, label='AE Normalized Cosine Distance ', marker='o')\n",
        "plt.xlabel('Number of Epochs.')\n",
        "plt.ylabel('NMI')\n",
        "plt.grid()\n",
        "plt.title(('NMI of AE Cosine is {:0.2f}').format(ae_nmi_cos))\n",
        "plt.legend(loc='best')\n",
        "plt.show()"
      ]
    },
    {
      "cell_type": "code",
      "execution_count": 0,
      "metadata": {
        "colab": {},
        "colab_type": "code",
        "id": "GlAy8R2FfjjE"
      },
      "outputs": [],
      "source": [
        "k_means_indx_cos = k_means_(data_cos, n_clusters)\n",
        "k_means_nmi_cos = (normalized_mutual_info_score(labels_cos, k_means_indx_cos))"
      ]
    },
    {
      "cell_type": "code",
      "execution_count": 26,
      "metadata": {
        "colab": {
          "base_uri": "https://localhost:8080/",
          "height": 71
        },
        "colab_type": "code",
        "id": "IuwpvHETfjjK",
        "outputId": "a8b6fc0a-2068-4158-fe81-7fa646a61002"
      },
      "outputs": [
        {
          "name": "stdout",
          "output_type": "stream",
          "text": [
            "KMeans on Similarity Matrix: --------- 86.23\n",
            "KMeans on Embedded Graph: ------------ 87.38\n"
          ]
        }
      ],
      "source": [
        "print(\"KMeans on Similarity Matrix: --------- {:0.2f}\".format(k_means_nmi_cos*100))\n",
        "print(\"KMeans on Embedded Graph: ------------ {:0.2f}\".format(ae_nmi_cos))\n"
      ]
    },
    {
      "cell_type": "code",
      "execution_count": 0,
      "metadata": {
        "colab": {},
        "colab_type": "code",
        "id": "mLo-rOwifjjQ"
      },
      "outputs": [],
      "source": [
        "origin_label_cos = np.array(trainSet_cosine.whole_dataset()[1]).astype(int)"
      ]
    },
    {
      "cell_type": "code",
      "execution_count": 28,
      "metadata": {
        "colab": {
          "base_uri": "https://localhost:8080/",
          "height": 369
        },
        "colab_type": "code",
        "id": "lyciCG6xfjjV",
        "outputId": "8f7c2bc7-0b94-4179-a162-1dae646e30c0"
      },
      "outputs": [
        {
          "data": {
            "image/png": "[encoded data removed]",
            "text/plain": [
              "<matplotlib.figure.Figure at 0x7f15e5b81198>"
            ]
          },
          "metadata": {
            "tags": []
          },
          "output_type": "display_data"
        }
      ],
      "source": [
        "colors = [('g', 'x'),('r', 'x'),('b','x')]\n",
        "plt.figure(figsize=(14, 5))\n",
        "for num in range(3):\n",
        "    plt.subplot(1,2,1)\n",
        "    plt.scatter([ae_codes_cos[:,0][i] for i in range(len(idx_cos)) if idx_cos[i] == num],\n",
        "                [ae_codes_cos[:,1][i] for i in range(len(idx_cos)) if idx_cos[i] == num],\n",
        "                50, label=str(num+1), color = colors[num][0], marker=colors[num][1])\n",
        "    plt.title(('NMI of AE on Cosine is {:0.2f}').format(ae_nmi_cos))\n",
        "    plt.xlabel('Runs K-Means on the representation by AE in 2 dimensions.')\n",
        "    plt.legend()\n",
        "    plt.subplot(1,2,2)\n",
        "    plt.scatter([ae_codes_cos[:,0][i] for i in range(len(origin_label_cos)) if origin_label_cos[i] == num],\n",
        "                [ae_codes_cos[:,1][i] for i in range(len(origin_label_cos)) if origin_label_cos[i] == num],\n",
        "                50, label=str(num+1), color = colors[num][0], marker=colors[num][1])\n",
        "    plt.title('Cosine Distance')\n",
        "    plt.xlabel('Check the Original Lables on the representation by AE in 2 Dimensions.')\n",
        "    plt.legend()\n",
        "plt.show()"
      ]
    },
    {
      "cell_type": "markdown",
      "metadata": {
        "colab_type": "text",
        "id": "KNMRSWDtfjjf"
      },
      "source": [
        "____________________________________________________________________________________________________________________________"
      ]
    },
    {
      "cell_type": "markdown",
      "metadata": {
        "colab_type": "text",
        "id": "kMwryEXXfjjg"
      },
      "source": [
        "Refrences:\n",
        "\n",
        "SciPy (the library) Jones E, Oliphant E, Peterson P, et al. SciPy: Open Source Scientific Tools for Python, 2001-, http://www.scipy.org/ [Online; accessed 2018-02-20]. Here’s an example of a BibTeX entry:\n",
        "\n",
        "@Misc{, author = {Eric Jones and Travis Oliphant and Pearu Peterson and others}, title = {{SciPy}: Open source scientific tools for {Python}}, year = {2001--}, url = \"http://www.scipy.org/\", note = {[Online; accessed\n",
        "\n",
        "NumPy & SciPy:\n",
        "\n",
        "Stéfan van der Walt, S. Chris Colbert and Gaël Varoquaux. The NumPy Array: A Structure for Efficient Numerical Computation, Computing in Science & Engineering, 13, 22-30 (2011), DOI:10.1109/MCSE.2011.37 (publisher link)\n",
        "\n",
        "IPython:\n",
        "\n",
        "Fernando Pérez and Brian E. Granger. IPython: A System for Interactive Scientific Computing, Computing in Science & Engineering, 9, 21-29 (2007), DOI:10.1109/MCSE.2007.53 (publisher link)\n",
        "\n",
        "Matplotlib:\n",
        "\n",
        "John D. Hunter. Matplotlib: A 2D Graphics Environment, Computing in Science & Engineering, 9, 90-95 (2007), DOI:10.1109/MCSE.2007.55 (publisher link)\n",
        "\n",
        "Scikit-learn:\n",
        "\n",
        "Fabian Pedregosa, Gaël Varoquaux, Alexandre Gramfort, Vincent Michel, Bertrand Thirion, Olivier Grisel, Mathieu Blondel, Peter Prettenhofer, Ron Weiss, Vincent Dubourg, Jake Vanderplas, Alexandre Passos, David Cournapeau, Matthieu Brucher, Matthieu Perrot, Édouard Duchesnay. Scikit-learn: Machine Learning in Python, Journal of Machine Learning Research, 12, 2825-2830 (2011) (publisher link)\n",
        "\n",
        "TensorFlow:\n",
        "\n",
        "@misc{tensorflow2015-whitepaper, title={ {TensorFlow}: Large-Scale Machine Learning on Heterogeneous Systems}, url={https://www.tensorflow.org/}, note={Software available from tensorflow.org},\n",
        "\n",
        "Jupyter Notebooks:\n",
        "\n",
        "@conference{Kluyver:2016aa, Author = {Thomas Kluyver and Benjamin Ragan-Kelley and Fernando P{\\'e}rez and Brian Granger and Matthias Bussonnier and Jonathan Frederic and Kyle Kelley and Jessica Hamrick and Jason Grout and Sylvain Corlay and Paul Ivanov and Dami{\\'a}n Avila and Safia Abdalla and Carol Willing}, Booktitle = {Positioning and Power in Academic Publishing: Players, Agents and Agendas}, Editor = {F. Loizides and B. Schmidt}, Organization = {IOS Press}, Pages = {87 - 90}, Title = {Jupyter Notebooks -- a publishing format for reproducible computational workflows}, Year = {2016}}"
      ]
    }
  ],
  "metadata": {
    "accelerator": "GPU",
    "colab": {
      "name": "Autoencoder on iris dataset.ipynb",
      "provenance": [],
      "version": "0.3.2"
    },
    "kernelspec": {
      "display_name": "Python 3",
      "name": "python3"
    }
  },
  "nbformat": 4,
  "nbformat_minor": 0
}
