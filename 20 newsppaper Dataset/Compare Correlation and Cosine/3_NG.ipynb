{
 "cells": [
  {
   "cell_type": "markdown",
   "metadata": {},
   "source": [
    "All resources are listed at the bottom of the page."
   ]
  },
  {
   "cell_type": "code",
   "execution_count": 1,
   "metadata": {},
   "outputs": [],
   "source": [
    "# Get important libraries for this class.\n",
    "import tensorflow as tf\n",
    "import numpy as np\n",
    "import matplotlib.pyplot as plt\n",
    "import warnings\n",
    "import math\n",
    "import sys\n",
    "import logging\n",
    "#-----------------------------------------------------------\n",
    "from tensorflow.python.ops import control_flow_ops\n",
    "from IPython.display import clear_output\n",
    "from scipy.spatial.distance import squareform, pdist\n",
    "from sklearn.preprocessing import normalize\n",
    "from numpy import linalg as LA\n",
    "from scipy.cluster.vq import kmeans, vq\n",
    "from sklearn.metrics import normalized_mutual_info_score\n",
    "from math import sqrt\n",
    "#------------------------------------------------------------\n",
    "from sklearn.datasets import fetch_20newsgroups\n",
    "from sklearn.decomposition import TruncatedSVD\n",
    "from sklearn.feature_extraction.text import TfidfVectorizer\n",
    "from sklearn.pipeline import make_pipeline\n",
    "from sklearn.preprocessing import Normalizer\n",
    "from optparse import OptionParser\n",
    "warnings.filterwarnings('ignore')"
   ]
  },
  {
   "cell_type": "code",
   "execution_count": 2,
   "metadata": {},
   "outputs": [],
   "source": [
    "def standardization(X):\n",
    "    return normalize(X, axis=0)"
   ]
  },
  {
   "cell_type": "code",
   "execution_count": 3,
   "metadata": {},
   "outputs": [],
   "source": [
    "def laplacian(A):\n",
    "    S = np.sum(A, 0)\n",
    "    D = np.diag(S)\n",
    "    D = LA.matrix_power(D, -1)\n",
    "    L = np.dot(D, A)\n",
    "    return L"
   ]
  },
  {
   "cell_type": "code",
   "execution_count": 4,
   "metadata": {},
   "outputs": [],
   "source": [
    "def normalization(V):\n",
    "    return (V - min(V)) / (max(V) - min(V))"
   ]
  },
  {
   "cell_type": "code",
   "execution_count": 5,
   "metadata": {},
   "outputs": [],
   "source": [
    "class Correlation_Similarity:\n",
    "    def get_matrix(self, Data):\n",
    "        X = standardization(Data)\n",
    "        X = pdist(X, 'correlation')\n",
    "        X = squareform(X)\n",
    "        L = laplacian(X)\n",
    "        Y = np.apply_along_axis(normalization, 1, L)\n",
    "        return Y"
   ]
  },
  {
   "cell_type": "code",
   "execution_count": 6,
   "metadata": {},
   "outputs": [],
   "source": [
    "class Cosine_Similarity:\n",
    "    def get_matrix(self, Data):\n",
    "        X = standardization(Data)\n",
    "        X = pdist(X, 'cosine')\n",
    "        X = squareform(X)\n",
    "        L = laplacian(X)\n",
    "        Y = np.apply_along_axis(normalization, 1, L)\n",
    "        return Y"
   ]
  },
  {
   "cell_type": "code",
   "execution_count": 7,
   "metadata": {},
   "outputs": [],
   "source": [
    "class Similarity_Dataset_Iterator():\n",
    "    def __init__(self, data, labels, similarity):\n",
    "        self.data = data\n",
    "        self.labels = labels\n",
    "        self.matrix = similarity.get_matrix(data)\n",
    "        self.data_size = self.matrix.shape[0]\n",
    "        self.current_index = 0\n",
    "    def next_batch(self, num):\n",
    "        data=self.matrix.transpose()\n",
    "        labels=self.labels\n",
    "        idx = np.arange(0, len(data))\n",
    "        np.random.shuffle(idx)\n",
    "        idx = idx[:num]\n",
    "        data_shuffle = [data[ i] for i in idx]\n",
    "        labels_shuffle = [labels[ i] for i in idx]\n",
    "        return data_shuffle, labels_shuffle\n",
    "    def whole_dataset(self):\n",
    "        return (self.matrix.transpose(), self.labels)"
   ]
  },
  {
   "cell_type": "code",
   "execution_count": 8,
   "metadata": {},
   "outputs": [],
   "source": [
    "#  Using Scikit-Learn libraries to fetching the Newsgroups data set: http://scikit-learn.org\n",
    "def read_NewsGroup_data(similarity):    \n",
    "    logging.basicConfig(level=logging.INFO,\n",
    "                        format='%(asctime)s %(levelname)s %(message)s')\n",
    "    op = OptionParser()\n",
    "    op.add_option(\"--lsa\", dest=\"n_components\", type=\"int\",\n",
    "                  help=\"Preprocess documents with latent semantic analysis.\")    \n",
    "    op.add_option(\"--no-idf\",action=\"store_false\", dest=\"use_idf\", default=True,\n",
    "                  help=\"Disable Inverse Document Frequency feature weighting.\")\n",
    "    op.add_option(\"--use-hashing\", action=\"store_true\", default=False,\n",
    "                  help=\"Use a hashing feature vectorizer\")\n",
    "    op.add_option(\"--n-features\", type=int, default=10000,\n",
    "                  help=\"Maximum number of features to extract from text.\")    \n",
    "    def is_interactive():\n",
    "        return not hasattr(sys.modules['__main__'], '__file__')\n",
    "    argv = [] if is_interactive() else sys.argv[1:]\n",
    "    (opts, args) = op.parse_args(argv)\n",
    "    if len(args) > 0:\n",
    "        op.error(\"this script takes no arguments.\")\n",
    "        sys.exit(1)\n",
    "    categories_3NG = ['comp.graphics', 'rec.sport.baseball', 'talk.politics.guns']\n",
    "    # categories = categories_3NG\n",
    "    dataset = fetch_20newsgroups(subset='train', categories=categories_3NG,\n",
    "                                 shuffle=True, random_state=42)\n",
    "    labels = dataset.target[:600]\n",
    "    true_k = np.unique(labels).shape[0]\n",
    "    vectorizer = TfidfVectorizer(max_df=0.5, max_features=opts.n_features, min_df=2,\n",
    "                                 stop_words='english', use_idf=opts.use_idf)\n",
    "    X = vectorizer.fit_transform(dataset.data[:600])\n",
    "    if opts.n_components:\n",
    "        svd = TruncatedSVD(opts.n_components)\n",
    "        normalizer = Normalizer(copy=False)\n",
    "        lsa = make_pipeline(svd, normalizer)\n",
    "        X = lsa.fit_transform(X)\n",
    "        explained_variance = svd.explained_variance_ratio_.sum()\n",
    "    return Similarity_Dataset_Iterator(X.toarray(), labels, similarity)"
   ]
  },
  {
   "cell_type": "code",
   "execution_count": 9,
   "metadata": {},
   "outputs": [],
   "source": [
    "# Call Correlation_Similarity as similarity dataset.\n",
    "trainSet_correlation = read_NewsGroup_data(Correlation_Similarity())"
   ]
  },
  {
   "cell_type": "code",
   "execution_count": 10,
   "metadata": {},
   "outputs": [],
   "source": [
    "# Call Cosine_Similarity as similarity dataset.\n",
    "trainSet_cosine = read_NewsGroup_data(Cosine_Similarity())"
   ]
  },
  {
   "cell_type": "code",
   "execution_count": 11,
   "metadata": {},
   "outputs": [],
   "source": [
    "n_input = trainSet_correlation.data_size #--------- Number of input data.\n",
    "# Define the number of hidden layer. \n",
    "if n_input >= 1024:\n",
    "    Nn = int(2048)\n",
    "elif n_input >= 512:\n",
    "    Nn = int(1024)\n",
    "elif n_input >= 256:\n",
    "    Nn = int(512)"
   ]
  },
  {
   "cell_type": "code",
   "execution_count": 12,
   "metadata": {},
   "outputs": [],
   "source": [
    "n_hidden_1 = int(Nn/2) #-------------------- The autoencoder hidden layer 1.\n",
    "n_code = str(int(n_hidden_1/2)) #----------- The number of output dimension value."
   ]
  },
  {
   "cell_type": "code",
   "execution_count": 13,
   "metadata": {},
   "outputs": [
    {
     "name": "stdout",
     "output_type": "stream",
     "text": [
      "Layer 1: ----------- 600\n",
      "Layer 2: ----------- 512\n",
      "Layer 3: ----------- 256\n"
     ]
    }
   ],
   "source": [
    "print('Layer 1: -----------', n_input)\n",
    "print('Layer 2: -----------', n_hidden_1)\n",
    "print('Layer 3: -----------', int(n_code))"
   ]
  },
  {
   "cell_type": "code",
   "execution_count": 14,
   "metadata": {},
   "outputs": [],
   "source": [
    "def k_means_(X, n_clusters):\n",
    "    kmeans_centroids,_ =  kmeans(X, n_clusters)\n",
    "    kmeans_, _ = vq(X, kmeans_centroids)\n",
    "    return kmeans_"
   ]
  },
  {
   "cell_type": "code",
   "execution_count": 15,
   "metadata": {},
   "outputs": [],
   "source": [
    "def encoder(x, n_code, mode_train):    \n",
    "    with tf.variable_scope(\"encoder\"):        \n",
    "        with tf.variable_scope(\"hidden-layer-1\"):\n",
    "            hidden_1 = layer(x, [n_input, n_hidden_1], [n_hidden_1], mode_train)\n",
    "        with tf.variable_scope(\"embedded\"):\n",
    "            code = layer(hidden_1, [n_hidden_1, n_code], [n_code], mode_train)\n",
    "    return code"
   ]
  },
  {
   "cell_type": "code",
   "execution_count": 16,
   "metadata": {},
   "outputs": [],
   "source": [
    "def decoder(code, n_code, mode_train):\n",
    "    with tf.variable_scope(\"decoder\"):\n",
    "        with tf.variable_scope(\"hidden-layer-1\"):\n",
    "            hidden_1 = layer(code, [n_code, n_hidden_1], [n_hidden_1], mode_train)\n",
    "        with tf.variable_scope(\"reconstructed\"):\n",
    "            output = layer(hidden_1, [n_hidden_1, n_input], [n_input], mode_train)\n",
    "    return output"
   ]
  },
  {
   "cell_type": "code",
   "execution_count": 17,
   "metadata": {},
   "outputs": [],
   "source": [
    "def batch_norm(x, n_out, mode_train):\n",
    "    beta_initialize = tf.constant_initializer(value=0.1, dtype=tf.float32)\n",
    "    gamma_initialize = tf.constant_initializer(value=0.1, dtype=tf.float32)\n",
    "    beta = tf.get_variable(\"beta\", [n_out], initializer=beta_initialize)\n",
    "    gamma = tf.get_variable(\"gamma\", [n_out], initializer=gamma_initialize)\n",
    "    batch_mean, batch_var = tf.nn.moments(x, [0], name='moments')\n",
    "    ema = tf.train.ExponentialMovingAverage(decay=0.9)\n",
    "    ema_apply_op = ema.apply([batch_mean, batch_var])\n",
    "    ema_mean, ema_var = ema.average(batch_mean), ema.average(batch_var)\n",
    "    def mean_var():\n",
    "        with tf.control_dependencies([ema_apply_op]):\n",
    "            return tf.identity(batch_mean), tf.identity(batch_var)\n",
    "    mean, var = control_flow_ops.cond(mode_train, mean_var, lambda: (ema_mean, ema_var))\n",
    "    reshaped_x = tf.reshape(x, [-1, 1, 1, n_out])\n",
    "    normed = tf.nn.batch_norm_with_global_normalization(reshaped_x, mean, var, beta, gamma, 1e-08, True)\n",
    "    return tf.reshape(normed, [-1, n_out])"
   ]
  },
  {
   "cell_type": "code",
   "execution_count": 18,
   "metadata": {},
   "outputs": [],
   "source": [
    "def layer(input, weight_shape, bias_shape, mode_train):\n",
    "    value_initialize = (1.0 / weight_shape[0] ** 0.5)\n",
    "    weight_initialize = tf.random_normal_initializer(stddev = value_initialize, seed = None)\n",
    "    bias_initialize = tf.constant_initializer(value=0.0, dtype=tf.float32)\n",
    "    w = tf.get_variable(\"w\", weight_shape, initializer=weight_initialize)\n",
    "    b = tf.get_variable(\"b\", bias_shape, initializer=bias_initialize)\n",
    "    return tf.nn.sigmoid(batch_norm((tf.matmul(input, w) + b), weight_shape[1], mode_train))"
   ]
  },
  {
   "cell_type": "code",
   "execution_count": 19,
   "metadata": {},
   "outputs": [],
   "source": [
    "def loss(reconstructed, x):\n",
    "    with tf.variable_scope(\"train\"):\n",
    "        train_loss = tf.reduce_mean(tf.reduce_sum(tf.square(tf.subtract(reconstructed, x)), 1))\n",
    "        return train_loss"
   ]
  },
  {
   "cell_type": "code",
   "execution_count": 20,
   "metadata": {},
   "outputs": [],
   "source": [
    "def training(cost, learning_rate, beta1, beta2, global_step):\n",
    "    optimizer = tf.train.AdamOptimizer(learning_rate, beta1, beta2, epsilon=1e-08, use_locking=False, name='Adam')\n",
    "    train_op = optimizer.minimize(cost, global_step=global_step)\n",
    "    return train_op"
   ]
  },
  {
   "cell_type": "code",
   "execution_count": 21,
   "metadata": {},
   "outputs": [],
   "source": [
    "# Parameters\n",
    "n_layers = 3 #------------------------------ Number of Neural Networks Layers.\n",
    "beta1 = 0.9 #------------------------------- The decay rate 1.  \n",
    "beta2 = 0.999 #----------------------------- The decay rate 2.\n",
    "learning_rate = (beta1/n_input) #----------- The learning rate.\n",
    "n_batch = math.ceil(sqrt(sqrt(n_input))) #-- Number of selection data in per step.\n",
    "n_backpro = math.ceil(n_input/n_batch) #---- Number of Backpro in per epoch.\n",
    "n_clusters = 3 #---------------------------- Number of clusters.\n",
    "n_diplay = 1 #------------------------------ Number of getting code and runnig the K-Means."
   ]
  },
  {
   "cell_type": "code",
   "execution_count": 22,
   "metadata": {},
   "outputs": [],
   "source": [
    "data_cor, labels_cor = trainSet_correlation.whole_dataset() #-- Allocation of data and labels\n",
    "data_cos, labels_cos = trainSet_cosine.whole_dataset() #------- Allocation of data and labels"
   ]
  },
  {
   "cell_type": "code",
   "execution_count": 23,
   "metadata": {},
   "outputs": [],
   "source": [
    "results_cor=[] #---------------------- A list to keep all NMI scores.\n",
    "loss_cost_cor=[] #-------------------- A list to keep all training evaluations.\n",
    "steps_cor=[] #------------------------ A list to keep all steps."
   ]
  },
  {
   "cell_type": "code",
   "execution_count": 24,
   "metadata": {},
   "outputs": [],
   "source": [
    "with tf.Graph().as_default():    \n",
    "    with tf.variable_scope(\"autoencoder_architecture\"):\n",
    "        x = tf.placeholder(\"float\", [None, n_input])   \n",
    "        mode_train = tf.placeholder(tf.bool)\n",
    "        code = encoder(x, int(n_code), mode_train)\n",
    "        reconstructed = decoder(code, int(n_code), mode_train)\n",
    "        cost = loss(reconstructed, x)\n",
    "        global_step = tf.Variable(0, name='global_step', trainable=False)\n",
    "        train_optimizer = training(cost, learning_rate, beta1, beta2, global_step)\n",
    "        sess = tf.Session()\n",
    "        init_op = tf.global_variables_initializer()\n",
    "        sess.run(init_op)"
   ]
  },
  {
   "cell_type": "code",
   "execution_count": 25,
   "metadata": {},
   "outputs": [
    {
     "name": "stdout",
     "output_type": "stream",
     "text": [
      "NMI Score for AE is: 78.45 and new cost is: 105.53 in 1 step. \n",
      "NMI Score for AE is: 79.12 and new cost is: 86.46 in 2 step. \n",
      "NMI Score for AE is: 84.07 and new cost is: 71.28 in 3 step. \n"
     ]
    }
   ],
   "source": [
    "# Training cycle\n",
    "epoch = 0\n",
    "while epoch == 0 or epoch < n_layers:\n",
    "    # Fit training with Backpropagation using batch data.\n",
    "    for i in range(n_backpro):\n",
    "        miniData, _ = trainSet_correlation.next_batch(n_batch)\n",
    "        _, new_cost = sess.run([train_optimizer,cost], feed_dict={x: miniData,\n",
    "                                                                  mode_train:True})       \n",
    "    #------------------------- End of the Optimization ------------------------------\n",
    "    epoch += 1\n",
    "    # Save the results after per 10 epochs.    \n",
    "    if epoch % n_diplay == 0 or epoch >= n_layers:\n",
    "        # Getting embedded codes and running K-Means on them.\n",
    "        ae_codes_cor = sess.run(code, feed_dict={x: data_cor, mode_train: False})        \n",
    "        idx_cor = k_means_(ae_codes_cor, n_clusters)\n",
    "        ae_nmi_cor = normalized_mutual_info_score(labels_cor, idx_cor)\n",
    "        ae_nmi_cor = ae_nmi_cor*100\n",
    "        results_cor.append(ae_nmi_cor)    \n",
    "        steps_cor.append(epoch)\n",
    "        loss_cost_cor.append(new_cost)    \n",
    "        print(\"NMI Score for AE is: {:0.2f} and new cost is: {:0.2f} in {:d} step. \"\n",
    "              .format(ae_nmi_cor, new_cost, epoch))"
   ]
  },
  {
   "cell_type": "code",
   "execution_count": 26,
   "metadata": {},
   "outputs": [],
   "source": [
    "results_cos=[] #--------------------------- A list to keep all NMI scores.\n",
    "loss_cost_cos=[] #------------------------- A list to keep all training evaluations.\n",
    "steps_cos=[] #----------------------------- A list to keep all steps."
   ]
  },
  {
   "cell_type": "code",
   "execution_count": 27,
   "metadata": {},
   "outputs": [],
   "source": [
    "with tf.Graph().as_default():    \n",
    "    with tf.variable_scope(\"autoencoder_architecture\"):\n",
    "        x = tf.placeholder(\"float\", [None, n_input])   \n",
    "        mode_train = tf.placeholder(tf.bool)\n",
    "        code = encoder(x, int(n_code), mode_train)\n",
    "        reconstructed = decoder(code, int(n_code), mode_train)\n",
    "        cost = loss(reconstructed, x)\n",
    "        global_step = tf.Variable(0, name='global_step', trainable=False)\n",
    "        train_optimizer = training(cost, learning_rate, beta1, beta2, global_step)\n",
    "        sess = tf.Session()\n",
    "        init_op = tf.global_variables_initializer()\n",
    "        sess.run(init_op)"
   ]
  },
  {
   "cell_type": "code",
   "execution_count": 28,
   "metadata": {},
   "outputs": [
    {
     "name": "stdout",
     "output_type": "stream",
     "text": [
      "NMI Score for AE is: 72.66 and new cost is: 108.49 in 1 step. \n",
      "NMI Score for AE is: 76.42 and new cost is: 88.78 in 2 step. \n",
      "NMI Score for AE is: 78.20 and new cost is: 73.40 in 3 step. \n"
     ]
    }
   ],
   "source": [
    "# Training cycle\n",
    "epoch = 0\n",
    "while epoch == 0 or epoch < n_layers:\n",
    "    # Fit training with backpropagation using batch data.\n",
    "    for i in range(n_backpro):\n",
    "        miniData, _ = trainSet_cosine.next_batch(n_batch)\n",
    "        _, new_cost = sess.run([train_optimizer,cost], feed_dict={x: miniData,\n",
    "                                                                  mode_train: True})       \n",
    "    #------------------------- End of the Optimization ------------------------------\n",
    "    epoch += 1\n",
    "    # Save the results after per 10 epochs.    \n",
    "    if epoch % n_diplay == 0 or epoch >= n_layers:\n",
    "        # Getting embedded codes and running K-Means on them.\n",
    "        ae_codes_cos = sess.run(code, feed_dict={x: data_cos, mode_train: False})        \n",
    "        idx_cos = k_means_(ae_codes_cos, n_clusters)\n",
    "        ae_nmi_cos = normalized_mutual_info_score(labels_cos, idx_cos)\n",
    "        ae_nmi_cos = ae_nmi_cos*100\n",
    "        results_cos.append(ae_nmi_cos)    \n",
    "        steps_cos.append(epoch)\n",
    "        loss_cost_cos.append(new_cost)    \n",
    "        print(\"NMI Score for AE is: {:0.2f} and new cost is: {:0.2f} in {:d} step. \"\n",
    "              .format(ae_nmi_cos, new_cost, epoch))"
   ]
  },
  {
   "cell_type": "code",
   "execution_count": 29,
   "metadata": {
    "scrolled": false
   },
   "outputs": [
    {
     "data": {
      "image/png": "[encoded data removed]",
      "text/plain": [
       "<matplotlib.figure.Figure at 0x26b6b9c8a58>"
      ]
     },
     "metadata": {},
     "output_type": "display_data"
    }
   ],
   "source": [
    "warnings.filterwarnings('ignore')\n",
    "plt.figure(figsize=(12,3.5))\n",
    "plt.subplot(1,2,1)\n",
    "plt.plot(steps_cor, loss_cost_cor, label='Cost Trianing for Correlation Distance ', color='#000080', marker='o')\n",
    "plt.plot(steps_cos, loss_cost_cos, label='Cost Trianing for Cosine Distance ', color='#E3CF57', marker='s')\n",
    "plt.xlabel('Number of Epochs.')\n",
    "plt.ylabel('Cost')\n",
    "plt.grid()\n",
    "plt.title('Cost Function Trianing')\n",
    "plt.legend(loc='best')\n",
    "plt.subplot(1,2,2)\n",
    "plt.ylim(30, 109)\n",
    "plt.plot(steps_cor, results_cor, label='AE Normalized Correlation Distance ', color='#000080', marker='o')\n",
    "plt.plot(steps_cos, results_cos, label='AE Normalized Cosine Distance ', color='#E3CF57', marker='s')\n",
    "plt.xlabel('Number of Epochs.')\n",
    "plt.ylabel('NMI')\n",
    "plt.grid()\n",
    "plt.title(('NMI of AE Correlation is {:0.2f} \\n and AE Cosine is {:0.2f}').format(ae_nmi_cor, ae_nmi_cos))\n",
    "plt.legend(loc='best')\n",
    "plt.show()"
   ]
  },
  {
   "cell_type": "code",
   "execution_count": 30,
   "metadata": {},
   "outputs": [],
   "source": [
    "def spectral_clustering(L, n_clusters):\n",
    "    eigenvectors = np.linalg.eig(L)[1]\n",
    "    X = np.real(eigenvectors[:,0: n_clusters])\n",
    "    X = normalize(X, norm='l2', axis=1)\n",
    "    return k_means_(X, n_clusters)"
   ]
  },
  {
   "cell_type": "code",
   "execution_count": 31,
   "metadata": {},
   "outputs": [],
   "source": [
    "spec_cluster_cos = spectral_clustering(data_cos, n_clusters)\n",
    "spec_nmi_cos = normalized_mutual_info_score(labels_cos, spec_cluster_cos)"
   ]
  },
  {
   "cell_type": "code",
   "execution_count": 32,
   "metadata": {},
   "outputs": [],
   "source": [
    "spec_cluster_cor = spectral_clustering(data_cor, n_clusters)\n",
    "spec_nmi_cor = normalized_mutual_info_score(labels_cor, spec_cluster_cor)"
   ]
  },
  {
   "cell_type": "code",
   "execution_count": 33,
   "metadata": {},
   "outputs": [
    {
     "name": "stdout",
     "output_type": "stream",
     "text": [
      "Spectral Clustering on Cosine: --------------- 70.36\n",
      "Spectral Clustering on Correlation: ---------- 70.76\n",
      "Autoencoder Clustering on Cosine: ------------ 78.20\n",
      "Autoencoder Clustering on Correlation: ------- 84.07\n"
     ]
    }
   ],
   "source": [
    "print(\"Spectral Clustering on Cosine: --------------- {:0.2f}\".format(spec_nmi_cos*100))\n",
    "print(\"Spectral Clustering on Correlation: ---------- {:0.2f}\".format(spec_nmi_cor*100))\n",
    "print(\"Autoencoder Clustering on Cosine: ------------ {:0.2f}\".format(ae_nmi_cos))\n",
    "print(\"Autoencoder Clustering on Correlation: ------- {:0.2f}\".format(ae_nmi_cor))"
   ]
  },
  {
   "cell_type": "markdown",
   "metadata": {},
   "source": [
    "------------------------------------------------------------------------------------------------------------------------------------------------------------------------------------------------------------------------------------------------------------------------------------------------------------------------------------------------------------------------------------"
   ]
  },
  {
   "cell_type": "markdown",
   "metadata": {},
   "source": [
    "____________________________________________________________________________________________________________________________"
   ]
  },
  {
   "cell_type": "markdown",
   "metadata": {},
   "source": [
    "Refrences:\n",
    "\n",
    "SciPy:\n",
    "SciPy (the library) Jones E, Oliphant E, Peterson P, et al. SciPy: Open Source Scientific Tools for Python, 2001-, http://www.scipy.org/ [Online; accessed 2018-02-20]. Here’s an example of a BibTeX entry:\n",
    "\n",
    "@Misc{, author = {Eric Jones and Travis Oliphant and Pearu Peterson and others}, title = {{SciPy}: Open source scientific tools for {Python}}, year = {2001--}, url = \"http://www.scipy.org/\", note = {[Online; accessed\n",
    "\n",
    "NumPy & SciPy:\n",
    "Stéfan van der Walt, S. Chris Colbert and Gaël Varoquaux. The NumPy Array: A Structure for Efficient Numerical Computation, Computing in Science & Engineering, 13, 22-30 (2011), DOI:10.1109/MCSE.2011.37 (publisher link)\n",
    "\n",
    "IPython:\n",
    "Fernando Pérez and Brian E. Granger. IPython: A System for Interactive Scientific Computing, Computing in Science & Engineering, 9, 21-29 (2007), DOI:10.1109/MCSE.2007.53 (publisher link)\n",
    "\n",
    "Matplotlib:\n",
    "John D. Hunter. Matplotlib: A 2D Graphics Environment, Computing in Science & Engineering, 9, 90-95 (2007), DOI:10.1109/MCSE.2007.55 (publisher link)\n",
    "\n",
    "Scikit-learn:\n",
    "Fabian Pedregosa, Gaël Varoquaux, Alexandre Gramfort, Vincent Michel, Bertrand Thirion, Olivier Grisel, Mathieu Blondel, Peter Prettenhofer, Ron Weiss, Vincent Dubourg, Jake Vanderplas, Alexandre Passos, David Cournapeau, Matthieu Brucher, Matthieu Perrot, Édouard Duchesnay. Scikit-learn: Machine Learning in Python, Journal of Machine Learning Research, 12, 2825-2830 (2011) (publisher link)\n",
    "\n",
    "TensorFlow:\n",
    "@misc{tensorflow2015-whitepaper, title={ {TensorFlow}: Large-Scale Machine Learning on Heterogeneous Systems}, url={https://www.tensorflow.org/}, note={Software available from tensorflow.org},\n",
    "\n",
    "Jupyter Notebooks:\n",
    "@conference{Kluyver:2016aa, Author = {Thomas Kluyver and Benjamin Ragan-Kelley and Fernando P{\\'e}rez and Brian Granger and Matthias Bussonnier and Jonathan Frederic and Kyle Kelley and Jessica Hamrick and Jason Grout and Sylvain Corlay and Paul Ivanov and Dami{\\'a}n Avila and Safia Abdalla and Carol Willing}, Booktitle = {Positioning and Power in Academic Publishing: Players, Agents and Agendas}, Editor = {F. Loizides and B. Schmidt}, Organization = {IOS Press}, Pages = {87 - 90}, Title = {Jupyter Notebooks -- a publishing format for reproducible computational workflows}, Year = {2016}}\n",
    "\n",
    "Fundamental of Deep Learning, N. Buduma and N. Lascascio, 2017"
   ]
  }
 ],
 "metadata": {
  "celltoolbar": "Raw Cell Format",
  "kernelspec": {
   "display_name": "Python 3",
   "language": "python",
   "name": "python3"
  },
  "language_info": {
   "codemirror_mode": {
    "name": "ipython",
    "version": 3
   },
   "file_extension": ".py",
   "mimetype": "text/x-python",
   "name": "python",
   "nbconvert_exporter": "python",
   "pygments_lexer": "ipython3",
   "version": "3.5.4"
  }
 },
 "nbformat": 4,
 "nbformat_minor": 1
}
